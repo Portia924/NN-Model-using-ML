{
  "nbformat": 4,
  "nbformat_minor": 0,
  "metadata": {
    "colab": {
      "provenance": [],
      "authorship_tag": "ABX9TyMfykz2vrOY/q8mn5EUcv75",
      "include_colab_link": true
    },
    "kernelspec": {
      "name": "python3",
      "display_name": "Python 3"
    },
    "language_info": {
      "name": "python"
    }
  },
  "cells": [
    {
      "cell_type": "markdown",
      "metadata": {
        "id": "view-in-github",
        "colab_type": "text"
      },
      "source": [
        "<a href=\"https://colab.research.google.com/github/Portia924/NN-Model-using-ML/blob/main/NN_Model.ipynb\" target=\"_parent\"><img src=\"https://colab.research.google.com/assets/colab-badge.svg\" alt=\"Open In Colab\"/></a>"
      ]
    },
    {
      "cell_type": "code",
      "execution_count": 18,
      "metadata": {
        "id": "UhzPe3iKQwHw"
      },
      "outputs": [],
      "source": [
        "import torch\n",
        "import torch.nn as nn\n",
        "import torch.optim as optim\n",
        "import torch.nn.functional as F\n",
        "from sklearn.metrics import accuracy_score, f1_score"
      ]
    },
    {
      "cell_type": "code",
      "source": [
        "# Custom activation function\n",
        "class AdaAct(nn.Module):\n",
        "    def __init__(self):\n",
        "        super(AdaAct, self).__init__()\n",
        "        # Learnable parameters for the activation function\n",
        "        self.k0 = nn.Parameter(torch.randn(1))  # Initialized randomly\n",
        "        self.k1 = nn.Parameter(torch.randn(1))\n",
        "\n",
        "    def forward(self, x):\n",
        "        # Activation function: g(x) = k0 + k1 * x\n",
        "        return self.k0 + self.k1 * x\n"
      ],
      "metadata": {
        "id": "EYu7-0aBRaEz"
      },
      "execution_count": 19,
      "outputs": []
    },
    {
      "cell_type": "code",
      "source": [
        "# Sample Neural Network Model with AdaAct\n",
        "# Increase the number of hidden layers and neurons\n",
        "class SimpleNN(nn.Module):\n",
        "    def __init__(self, input_size, hidden_size, output_size):\n",
        "        super(SimpleNN, self).__init__()\n",
        "        self.fc1 = nn.Linear(input_size, hidden_size)\n",
        "        self.bn1 = nn.BatchNorm1d(hidden_size)  # Batch Normalization\n",
        "        self.ada_act = AdaAct()  # Using the custom activation function\n",
        "        self.fc2 = nn.Linear(hidden_size, hidden_size)  # Second hidden layer\n",
        "        self.bn2 = nn.BatchNorm1d(hidden_size)  # Batch Normalization\n",
        "        self.fc3 = nn.Linear(hidden_size, output_size)  # Output layer\n",
        "\n",
        "    def forward(self, x):\n",
        "        x = self.fc1(x)\n",
        "        x = self.bn1(x)  # Apply batch normalization\n",
        "        x = self.ada_act(x)\n",
        "        x = self.fc2(x)\n",
        "        x = self.bn2(x)  # Apply batch normalization\n",
        "        x = self.ada_act(x)\n",
        "        x = self.fc3(x)\n",
        "        return F.log_softmax(x, dim=1)  # Output layer using softmax for classification\n"
      ],
      "metadata": {
        "id": "kISm-GfOu-rG"
      },
      "execution_count": 20,
      "outputs": []
    },
    {
      "cell_type": "code",
      "source": [
        "# Function to train the model\n",
        "def train(model, optimizer, criterion, train_loader, epochs=10):\n",
        "    model.train()\n",
        "    for epoch in range(epochs):\n",
        "        running_loss = 0.0\n",
        "        for data, target in train_loader:\n",
        "            optimizer.zero_grad()\n",
        "            output = model(data)\n",
        "            loss = criterion(output, target)\n",
        "            loss.backward()\n",
        "            optimizer.step()\n",
        "            running_loss += loss.item()\n",
        "\n",
        "        print(f\"Epoch {epoch+1}, Loss: {running_loss / len(train_loader)}\")"
      ],
      "metadata": {
        "id": "6VCQ8dBfRjpa"
      },
      "execution_count": 21,
      "outputs": []
    },
    {
      "cell_type": "code",
      "source": [
        "# Function to evaluate the model\n",
        "def evaluate(model, test_loader):\n",
        "    model.eval()\n",
        "    all_preds = []\n",
        "    all_targets = []\n",
        "    with torch.no_grad():\n",
        "        for data, target in test_loader:\n",
        "            output = model(data)\n",
        "            preds = torch.argmax(output, dim=1)\n",
        "            all_preds.append(preds)\n",
        "            all_targets.append(target)\n",
        "\n",
        "    # Flatten the lists of tensors\n",
        "    all_preds = torch.cat(all_preds)\n",
        "    all_targets = torch.cat(all_targets)\n",
        "\n",
        "    accuracy = accuracy_score(all_targets.cpu(), all_preds.cpu())\n",
        "    f1 = f1_score(all_targets.cpu(), all_preds.cpu(), average='macro')\n",
        "\n",
        "    return accuracy, f1"
      ],
      "metadata": {
        "id": "aLUBoLpqRo2q"
      },
      "execution_count": 22,
      "outputs": []
    },
    {
      "cell_type": "code",
      "source": [
        "# Example dataset (Iris dataset as an example)\n",
        "from sklearn.datasets import load_iris\n",
        "from sklearn.model_selection import train_test_split\n",
        "from sklearn.preprocessing import StandardScaler\n",
        "from torch.utils.data import DataLoader, TensorDataset\n"
      ],
      "metadata": {
        "id": "ixLguBEMRwVd"
      },
      "execution_count": 23,
      "outputs": []
    },
    {
      "cell_type": "code",
      "source": [
        "# Load and prepare the Iris dataset\n",
        "iris = load_iris()\n",
        "X = iris['data']\n",
        "y = iris['target']\n"
      ],
      "metadata": {
        "id": "w3tobIyERz2a"
      },
      "execution_count": 24,
      "outputs": []
    },
    {
      "cell_type": "code",
      "source": [
        "# Standardize the data\n",
        "scaler = StandardScaler()\n",
        "X = scaler.fit_transform(X)"
      ],
      "metadata": {
        "id": "RSjHplDYR6s6"
      },
      "execution_count": 25,
      "outputs": []
    },
    {
      "cell_type": "code",
      "source": [
        "# Train-test split\n",
        "X_train, X_test, y_train, y_test = train_test_split(X, y, test_size=0.3, random_state=42)\n"
      ],
      "metadata": {
        "id": "Q9GsD0R8R8or"
      },
      "execution_count": 26,
      "outputs": []
    },
    {
      "cell_type": "code",
      "source": [
        "# Convert to tensors\n",
        "X_train_tensor = torch.tensor(X_train, dtype=torch.float32)\n",
        "y_train_tensor = torch.tensor(y_train, dtype=torch.long)\n",
        "X_test_tensor = torch.tensor(X_test, dtype=torch.float32)\n",
        "y_test_tensor = torch.tensor(y_test, dtype=torch.long)\n"
      ],
      "metadata": {
        "id": "opMgQ-5mSADT"
      },
      "execution_count": 27,
      "outputs": []
    },
    {
      "cell_type": "code",
      "source": [
        "# Create DataLoader\n",
        "train_dataset = TensorDataset(X_train_tensor, y_train_tensor)\n",
        "test_dataset = TensorDataset(X_test_tensor, y_test_tensor)\n",
        "\n",
        "train_loader = DataLoader(train_dataset, batch_size=16, shuffle=True)\n",
        "test_loader = DataLoader(test_dataset, batch_size=16, shuffle=False)\n"
      ],
      "metadata": {
        "id": "GgzP91b9SDcy"
      },
      "execution_count": 28,
      "outputs": []
    },
    {
      "cell_type": "code",
      "source": [
        "# Model, loss, and optimizer\n",
        "input_size = X_train.shape[1]\n",
        "hidden_size = 10\n",
        "output_size = len(set(y))\n",
        "# Number of classes\n",
        "model = SimpleNN(input_size, hidden_size, output_size)\n",
        "criterion = nn.CrossEntropyLoss()\n",
        "optimizer = optim.Adam(model.parameters(), lr=0.001)\n"
      ],
      "metadata": {
        "id": "UkmHaflrSH4i"
      },
      "execution_count": 30,
      "outputs": []
    },
    {
      "cell_type": "code",
      "source": [
        "# Training the model\n",
        "train(model, optimizer, criterion, train_loader, epochs=50)"
      ],
      "metadata": {
        "colab": {
          "base_uri": "https://localhost:8080/"
        },
        "id": "re7tndg1STF6",
        "outputId": "3ca10319-ed94-445b-cc17-de76f88c1f10"
      },
      "execution_count": 31,
      "outputs": [
        {
          "output_type": "stream",
          "name": "stdout",
          "text": [
            "Epoch 1, Loss: 1.0720583541052682\n",
            "Epoch 2, Loss: 0.9568115728242057\n",
            "Epoch 3, Loss: 0.8884549055780683\n",
            "Epoch 4, Loss: 0.8002941863877433\n",
            "Epoch 5, Loss: 0.7725779754774911\n",
            "Epoch 6, Loss: 0.7558574250766209\n",
            "Epoch 7, Loss: 0.6853830644062587\n",
            "Epoch 8, Loss: 0.6600416771003178\n",
            "Epoch 9, Loss: 0.6039444974490574\n",
            "Epoch 10, Loss: 0.6359762123652867\n",
            "Epoch 11, Loss: 0.5808220548289162\n",
            "Epoch 12, Loss: 0.6241235562733242\n",
            "Epoch 13, Loss: 0.5464724004268646\n",
            "Epoch 14, Loss: 0.5231060811451503\n",
            "Epoch 15, Loss: 0.5041286860193525\n",
            "Epoch 16, Loss: 0.49442714026996065\n",
            "Epoch 17, Loss: 0.492778548172542\n",
            "Epoch 18, Loss: 0.4846882564680917\n",
            "Epoch 19, Loss: 0.4519233320440565\n",
            "Epoch 20, Loss: 0.4512976663453238\n",
            "Epoch 21, Loss: 0.45592900259154184\n",
            "Epoch 22, Loss: 0.4401172399520874\n",
            "Epoch 23, Loss: 0.43173786997795105\n",
            "Epoch 24, Loss: 0.4139879601342337\n",
            "Epoch 25, Loss: 0.42994050894464764\n",
            "Epoch 26, Loss: 0.40823387248175486\n",
            "Epoch 27, Loss: 0.4223664402961731\n",
            "Epoch 28, Loss: 0.39584071721349445\n",
            "Epoch 29, Loss: 0.3870710645403181\n",
            "Epoch 30, Loss: 0.4115922578743526\n",
            "Epoch 31, Loss: 0.4078617990016937\n",
            "Epoch 32, Loss: 0.4243740162679127\n",
            "Epoch 33, Loss: 0.380090383546693\n",
            "Epoch 34, Loss: 0.3777153066226414\n",
            "Epoch 35, Loss: 0.36387949543339865\n",
            "Epoch 36, Loss: 0.4132116905280522\n",
            "Epoch 37, Loss: 0.45508337233747753\n",
            "Epoch 38, Loss: 0.3991830050945282\n",
            "Epoch 39, Loss: 0.37751248478889465\n",
            "Epoch 40, Loss: 0.3520026888166155\n",
            "Epoch 41, Loss: 0.39918274113110136\n",
            "Epoch 42, Loss: 0.32709028465407236\n",
            "Epoch 43, Loss: 0.42358873784542084\n",
            "Epoch 44, Loss: 0.3669859894684383\n",
            "Epoch 45, Loss: 0.35420223431927816\n",
            "Epoch 46, Loss: 0.3323730400630406\n",
            "Epoch 47, Loss: 0.341238443340574\n",
            "Epoch 48, Loss: 0.3673587164708546\n",
            "Epoch 49, Loss: 0.3666283168963024\n",
            "Epoch 50, Loss: 0.4106107588325228\n"
          ]
        }
      ]
    },
    {
      "cell_type": "code",
      "source": [
        "# Evaluating the model\n",
        "accuracy, f1 = evaluate(model, test_loader)\n",
        "print(f\"Test Accuracy: {accuracy:.4f}, F1-Score: {f1:.4f}\")"
      ],
      "metadata": {
        "colab": {
          "base_uri": "https://localhost:8080/"
        },
        "id": "Dvt9705gSLJC",
        "outputId": "2b0f6583-fb9a-40ba-c0a2-9c7d6126b064"
      },
      "execution_count": 32,
      "outputs": [
        {
          "output_type": "stream",
          "name": "stdout",
          "text": [
            "Test Accuracy: 0.8889, F1-Score: 0.8669\n"
          ]
        }
      ]
    },
    {
      "cell_type": "code",
      "source": [
        "# Evaluating the model\n",
        "accuracy, f1 = evaluate(model, train_loader)\n",
        "print(f\"Train Accuracy: {accuracy:.4f}, F1-Score: {f1:.4f}\")"
      ],
      "metadata": {
        "colab": {
          "base_uri": "https://localhost:8080/"
        },
        "id": "mzCvcA1gqD4X",
        "outputId": "db77ebab-f08b-44a4-8d93-c1d583606e82"
      },
      "execution_count": 33,
      "outputs": [
        {
          "output_type": "stream",
          "name": "stdout",
          "text": [
            "Train Accuracy: 0.8952, F1-Score: 0.9004\n"
          ]
        }
      ]
    },
    {
      "cell_type": "code",
      "source": [
        "import matplotlib.pyplot as plt\n",
        "\n",
        "# Example data (replace with actual loss values from your model)\n",
        "epochs = range(1, 21)  # Assume training for 20 epochs\n",
        "train_loss = [0.95, 0.85, 0.76, 0.68, 0.61, 0.55, 0.49, 0.45, 0.41, 0.38,\n",
        "              0.34, 0.31, 0.29, 0.26, 0.24, 0.22, 0.20, 0.19, 0.17, 0.16]\n",
        "test_loss = [0.98, 0.89, 0.80, 0.72, 0.65, 0.59, 0.53, 0.49, 0.45, 0.42,\n",
        "             0.39, 0.36, 0.34, 0.31, 0.29, 0.27, 0.25, 0.23, 0.22, 0.21]\n",
        "\n",
        "# Create the plot\n",
        "plt.figure(figsize=(10, 6))\n",
        "plt.plot(epochs, train_loss, label='Train Loss', marker='o')\n",
        "plt.plot(epochs, test_loss, label='Test Loss', marker='s')\n",
        "\n",
        "# Adding labels and title\n",
        "plt.title('Loss Function vs. Epochs')\n",
        "plt.xlabel('Epochs')\n",
        "plt.ylabel('Loss')\n",
        "plt.grid(True)\n",
        "plt.legend()\n",
        "\n",
        "# Show the plot\n",
        "plt.show()\n"
      ],
      "metadata": {
        "colab": {
          "base_uri": "https://localhost:8080/",
          "height": 564
        },
        "id": "WkJaxExYrEKn",
        "outputId": "2248b9cf-03d3-4dd3-d564-b56af3471a7b"
      },
      "execution_count": 34,
      "outputs": [
        {
          "output_type": "display_data",
          "data": {
            "text/plain": [
              "<Figure size 1000x600 with 1 Axes>"
            ],
            "image/png": "[encoded data removed]"
          },
          "metadata": {}
        }
      ]
    }
  ]
}